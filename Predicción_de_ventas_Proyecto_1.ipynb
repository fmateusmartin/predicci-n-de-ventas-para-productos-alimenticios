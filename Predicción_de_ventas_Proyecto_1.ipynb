{
  "nbformat": 4,
  "nbformat_minor": 0,
  "metadata": {
    "colab": {
      "name": "Predicción de ventas - Proyecto 1 ",
      "provenance": [],
      "mount_file_id": "1LWuxxK_tw2sRKhGs1XirSqzj_Fv850cB",
      "authorship_tag": "ABX9TyPTVWaTo/ZM7YPeEr2Z2nno",
      "include_colab_link": true
    },
    "kernelspec": {
      "name": "python3",
      "display_name": "Python 3"
    },
    "language_info": {
      "name": "python"
    }
  },
  "cells": [
    {
      "cell_type": "markdown",
      "metadata": {
        "id": "view-in-github",
        "colab_type": "text"
      },
      "source": [
        "<a href=\"https://colab.research.google.com/github/fmateusmartin/predicci-n-de-ventas-para-productos-alimenticios/blob/main/Predicci%C3%B3n_de_ventas_Proyecto_1.ipynb\" target=\"_parent\"><img src=\"https://colab.research.google.com/assets/colab-badge.svg\" alt=\"Open In Colab\"/></a>"
      ]
    },
    {
      "cell_type": "code",
      "execution_count": 2,
      "metadata": {
        "id": "eVhYw1xBDI2E"
      },
      "outputs": [],
      "source": [
        "import pandas as pd\n",
        "filename = \"/content/drive/MyDrive/DataScience/sales_predictions.csv\"\n",
        "df = pd.read_csv(filename)"
      ]
    }
  ]
}